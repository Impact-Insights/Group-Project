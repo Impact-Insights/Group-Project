{
 "cells": [
  {
   "cell_type": "markdown",
   "id": "1a451fa1",
   "metadata": {},
   "source": [
    "# ETL Pipeline that reads from a CSV"
   ]
  },
  {
   "cell_type": "markdown",
   "id": "18a20bb3",
   "metadata": {},
   "source": [
    "### Objectives \n",
    "\n",
    "1. Importing Modules\n",
    "2. Importing the data\n",
    "### Data Transformation.\n",
    "#### Data Cleaning.\n",
    "\n",
    "3. Checking the inconsistencies of the data\n",
    "4. Dropping down the rows whose User IDs are unkonwn\n",
    "5. Converting the ``User ID`` from float to int\n",
    "6. Removing the duplicates if any\n",
    "7. Converting the Sleep Duration column into float\n",
    "\n",
    "\n",
    "#### Data Standardization.\n",
    "8. Fixing the hyphens in ``Activity level`` column\n",
    "9. Fixing the ``Stress Level`` Column's elements having values 'Very High' to 9\n",
    "10. Fixing the Actve error in ``Activity Level``\n",
    "11. Filling up the empty entries\n",
    "12. Reducing the decimal value to 2 for columns with data type float.\n",
    "13. Removng the outliers from the dataframe\n",
    "14. Removing the rows with illogical values(To ensure logical consistency)\n",
    "15. Converting the Stress Level to ``int`` as we have fixed the data\n",
    "16. Checking for inconsistent categorical values for the column ``Activity level``\n",
    "17. Resetting the index\n",
    "\n",
    "18. Checking if all the changes have been implemented or not.\n",
    "\n",
    "\n",
    "19. Saving the data into a csv file\n"
   ]
  },
  {
   "cell_type": "markdown",
   "id": "0b004b66",
   "metadata": {},
   "source": [
    "### Requirements"
   ]
  },
  {
   "cell_type": "code",
   "execution_count": 1,
   "id": "5557d3de",
   "metadata": {},
   "outputs": [
    {
     "name": "stdout",
     "output_type": "stream",
     "text": [
      "Requirement already satisfied: great_expectations in c:\\users\\capaciti\\downloads\\anaconda1\\lib\\site-packages (1.4.2)\n",
      "Requirement already satisfied: altair<5.0.0,>=4.2.1 in c:\\users\\capaciti\\downloads\\anaconda1\\lib\\site-packages (from great_expectations) (4.2.2)\n",
      "Requirement already satisfied: cryptography>=3.2 in c:\\users\\capaciti\\downloads\\anaconda1\\lib\\site-packages (from great_expectations) (43.0.0)\n",
      "Requirement already satisfied: jinja2>=3 in c:\\users\\capaciti\\downloads\\anaconda1\\lib\\site-packages (from great_expectations) (3.1.4)\n",
      "Requirement already satisfied: jsonschema>=2.5.1 in c:\\users\\capaciti\\downloads\\anaconda1\\lib\\site-packages (from great_expectations) (4.23.0)\n",
      "Requirement already satisfied: marshmallow<4.0.0,>=3.7.1 in c:\\users\\capaciti\\downloads\\anaconda1\\lib\\site-packages (from great_expectations) (3.26.1)\n",
      "Requirement already satisfied: mistune>=0.8.4 in c:\\users\\capaciti\\downloads\\anaconda1\\lib\\site-packages (from great_expectations) (2.0.4)\n",
      "Requirement already satisfied: packaging in c:\\users\\capaciti\\downloads\\anaconda1\\lib\\site-packages (from great_expectations) (24.1)\n",
      "Requirement already satisfied: posthog<4,>3 in c:\\users\\capaciti\\downloads\\anaconda1\\lib\\site-packages (from great_expectations) (3.25.0)\n",
      "Requirement already satisfied: pydantic>=1.10.7 in c:\\users\\capaciti\\downloads\\anaconda1\\lib\\site-packages (from great_expectations) (2.8.2)\n",
      "Requirement already satisfied: pyparsing>=2.4 in c:\\users\\capaciti\\downloads\\anaconda1\\lib\\site-packages (from great_expectations) (3.1.2)\n",
      "Requirement already satisfied: python-dateutil>=2.8.1 in c:\\users\\capaciti\\downloads\\anaconda1\\lib\\site-packages (from great_expectations) (2.9.0.post0)\n",
      "Requirement already satisfied: requests>=2.20 in c:\\users\\capaciti\\downloads\\anaconda1\\lib\\site-packages (from great_expectations) (2.32.3)\n",
      "Requirement already satisfied: ruamel.yaml>=0.16 in c:\\users\\capaciti\\downloads\\anaconda1\\lib\\site-packages (from great_expectations) (0.18.6)\n",
      "Requirement already satisfied: scipy>=1.6.0 in c:\\users\\capaciti\\downloads\\anaconda1\\lib\\site-packages (from great_expectations) (1.13.1)\n",
      "Requirement already satisfied: tqdm>=4.59.0 in c:\\users\\capaciti\\downloads\\anaconda1\\lib\\site-packages (from great_expectations) (4.66.5)\n",
      "Requirement already satisfied: typing-extensions>=4.1.0 in c:\\users\\capaciti\\downloads\\anaconda1\\lib\\site-packages (from great_expectations) (4.11.0)\n",
      "Requirement already satisfied: tzlocal>=1.2 in c:\\users\\capaciti\\downloads\\anaconda1\\lib\\site-packages (from great_expectations) (5.3.1)\n",
      "Requirement already satisfied: numpy>=1.22.4 in c:\\users\\capaciti\\downloads\\anaconda1\\lib\\site-packages (from great_expectations) (1.26.4)\n",
      "Requirement already satisfied: pandas<2.2,>=1.3.0 in c:\\users\\capaciti\\downloads\\anaconda1\\lib\\site-packages (from great_expectations) (2.1.4)\n",
      "Requirement already satisfied: entrypoints in c:\\users\\capaciti\\downloads\\anaconda1\\lib\\site-packages (from altair<5.0.0,>=4.2.1->great_expectations) (0.4)\n",
      "Requirement already satisfied: toolz in c:\\users\\capaciti\\downloads\\anaconda1\\lib\\site-packages (from altair<5.0.0,>=4.2.1->great_expectations) (0.12.0)\n",
      "Requirement already satisfied: cffi>=1.12 in c:\\users\\capaciti\\downloads\\anaconda1\\lib\\site-packages (from cryptography>=3.2->great_expectations) (1.17.1)\n",
      "Requirement already satisfied: MarkupSafe>=2.0 in c:\\users\\capaciti\\downloads\\anaconda1\\lib\\site-packages (from jinja2>=3->great_expectations) (2.1.3)\n",
      "Requirement already satisfied: attrs>=22.2.0 in c:\\users\\capaciti\\downloads\\anaconda1\\lib\\site-packages (from jsonschema>=2.5.1->great_expectations) (23.1.0)\n",
      "Requirement already satisfied: jsonschema-specifications>=2023.03.6 in c:\\users\\capaciti\\downloads\\anaconda1\\lib\\site-packages (from jsonschema>=2.5.1->great_expectations) (2023.7.1)\n",
      "Requirement already satisfied: referencing>=0.28.4 in c:\\users\\capaciti\\downloads\\anaconda1\\lib\\site-packages (from jsonschema>=2.5.1->great_expectations) (0.30.2)\n",
      "Requirement already satisfied: rpds-py>=0.7.1 in c:\\users\\capaciti\\downloads\\anaconda1\\lib\\site-packages (from jsonschema>=2.5.1->great_expectations) (0.10.6)\n",
      "Requirement already satisfied: pytz>=2020.1 in c:\\users\\capaciti\\downloads\\anaconda1\\lib\\site-packages (from pandas<2.2,>=1.3.0->great_expectations) (2024.1)\n",
      "Requirement already satisfied: tzdata>=2022.1 in c:\\users\\capaciti\\downloads\\anaconda1\\lib\\site-packages (from pandas<2.2,>=1.3.0->great_expectations) (2023.3)\n",
      "Requirement already satisfied: six>=1.5 in c:\\users\\capaciti\\downloads\\anaconda1\\lib\\site-packages (from posthog<4,>3->great_expectations) (1.16.0)\n",
      "Requirement already satisfied: monotonic>=1.5 in c:\\users\\capaciti\\downloads\\anaconda1\\lib\\site-packages (from posthog<4,>3->great_expectations) (1.6)\n",
      "Requirement already satisfied: backoff>=1.10.0 in c:\\users\\capaciti\\downloads\\anaconda1\\lib\\site-packages (from posthog<4,>3->great_expectations) (2.2.1)\n",
      "Requirement already satisfied: distro>=1.5.0 in c:\\users\\capaciti\\downloads\\anaconda1\\lib\\site-packages (from posthog<4,>3->great_expectations) (1.9.0)\n",
      "Requirement already satisfied: annotated-types>=0.4.0 in c:\\users\\capaciti\\downloads\\anaconda1\\lib\\site-packages (from pydantic>=1.10.7->great_expectations) (0.6.0)\n",
      "Requirement already satisfied: pydantic-core==2.20.1 in c:\\users\\capaciti\\downloads\\anaconda1\\lib\\site-packages (from pydantic>=1.10.7->great_expectations) (2.20.1)\n",
      "Requirement already satisfied: charset-normalizer<4,>=2 in c:\\users\\capaciti\\downloads\\anaconda1\\lib\\site-packages (from requests>=2.20->great_expectations) (3.3.2)\n",
      "Requirement already satisfied: idna<4,>=2.5 in c:\\users\\capaciti\\downloads\\anaconda1\\lib\\site-packages (from requests>=2.20->great_expectations) (3.7)\n",
      "Requirement already satisfied: urllib3<3,>=1.21.1 in c:\\users\\capaciti\\downloads\\anaconda1\\lib\\site-packages (from requests>=2.20->great_expectations) (2.2.3)\n",
      "Requirement already satisfied: certifi>=2017.4.17 in c:\\users\\capaciti\\downloads\\anaconda1\\lib\\site-packages (from requests>=2.20->great_expectations) (2024.8.30)\n",
      "Requirement already satisfied: ruamel.yaml.clib>=0.2.7 in c:\\users\\capaciti\\downloads\\anaconda1\\lib\\site-packages (from ruamel.yaml>=0.16->great_expectations) (0.2.8)\n",
      "Requirement already satisfied: colorama in c:\\users\\capaciti\\downloads\\anaconda1\\lib\\site-packages (from tqdm>=4.59.0->great_expectations) (0.4.6)\n",
      "Requirement already satisfied: pycparser in c:\\users\\capaciti\\downloads\\anaconda1\\lib\\site-packages (from cffi>=1.12->cryptography>=3.2->great_expectations) (2.21)\n",
      "Note: you may need to restart the kernel to use updated packages.\n"
     ]
    }
   ],
   "source": [
    "pip install great_expectations"
   ]
  },
  {
   "cell_type": "code",
   "execution_count": 2,
   "metadata": {},
   "outputs": [],
   "source": [
    "import pandas as pd\n",
    "import numpy as np"
   ]
  },
  {
   "cell_type": "markdown",
   "id": "3ec67e22",
   "metadata": {},
   "source": [
    "### Extracts"
   ]
  },
  {
   "cell_type": "code",
   "execution_count": 3,
   "id": "0be33657",
   "metadata": {},
   "outputs": [],
   "source": [
    "def extract(file_to_prcess):\n",
    "    data = pd.read_csv(file_to_prcess)\n",
    "    \n",
    "    return data\n"
   ]
  },
  {
   "cell_type": "markdown",
   "id": "1c53a563",
   "metadata": {},
   "source": [
    "#### Data Exploration"
   ]
  },
  {
   "cell_type": "code",
   "execution_count": 4,
   "id": "28ca2d90",
   "metadata": {},
   "outputs": [],
   "source": [
    "data = extract('unclean_smartwatch_health_data.csv')"
   ]
  },
  {
   "cell_type": "code",
   "execution_count": 5,
   "id": "1534ea8b",
   "metadata": {},
   "outputs": [
    {
     "data": {
      "text/html": [
       "<div>\n",
       "<style scoped>\n",
       "    .dataframe tbody tr th:only-of-type {\n",
       "        vertical-align: middle;\n",
       "    }\n",
       "\n",
       "    .dataframe tbody tr th {\n",
       "        vertical-align: top;\n",
       "    }\n",
       "\n",
       "    .dataframe thead th {\n",
       "        text-align: right;\n",
       "    }\n",
       "</style>\n",
       "<table border=\"1\" class=\"dataframe\">\n",
       "  <thead>\n",
       "    <tr style=\"text-align: right;\">\n",
       "      <th></th>\n",
       "      <th>User ID</th>\n",
       "      <th>Heart Rate (BPM)</th>\n",
       "      <th>Blood Oxygen Level (%)</th>\n",
       "      <th>Step Count</th>\n",
       "      <th>Sleep Duration (hours)</th>\n",
       "      <th>Activity Level</th>\n",
       "      <th>Stress Level</th>\n",
       "    </tr>\n",
       "  </thead>\n",
       "  <tbody>\n",
       "    <tr>\n",
       "      <th>5009</th>\n",
       "      <td>2313.0</td>\n",
       "      <td>89.398918</td>\n",
       "      <td>97.932791</td>\n",
       "      <td>5060.952124</td>\n",
       "      <td>5.036170722569186</td>\n",
       "      <td>Sedentary</td>\n",
       "      <td>10</td>\n",
       "    </tr>\n",
       "    <tr>\n",
       "      <th>2965</th>\n",
       "      <td>1788.0</td>\n",
       "      <td>78.017781</td>\n",
       "      <td>98.736544</td>\n",
       "      <td>518.977421</td>\n",
       "      <td>5.559555798224284</td>\n",
       "      <td>Highly Active</td>\n",
       "      <td>5</td>\n",
       "    </tr>\n",
       "    <tr>\n",
       "      <th>2113</th>\n",
       "      <td>2325.0</td>\n",
       "      <td>79.641981</td>\n",
       "      <td>97.559194</td>\n",
       "      <td>6559.260033</td>\n",
       "      <td>4.503353301797565</td>\n",
       "      <td>Seddentary</td>\n",
       "      <td>6</td>\n",
       "    </tr>\n",
       "    <tr>\n",
       "      <th>3796</th>\n",
       "      <td>1867.0</td>\n",
       "      <td>85.836120</td>\n",
       "      <td>100.000000</td>\n",
       "      <td>21398.378954</td>\n",
       "      <td>8.899756954238846</td>\n",
       "      <td>Actve</td>\n",
       "      <td>4</td>\n",
       "    </tr>\n",
       "    <tr>\n",
       "      <th>1683</th>\n",
       "      <td>1193.0</td>\n",
       "      <td>71.754302</td>\n",
       "      <td>96.077817</td>\n",
       "      <td>3179.476407</td>\n",
       "      <td>6.962624786346553</td>\n",
       "      <td>Seddentary</td>\n",
       "      <td>7</td>\n",
       "    </tr>\n",
       "  </tbody>\n",
       "</table>\n",
       "</div>"
      ],
      "text/plain": [
       "      User ID  Heart Rate (BPM)  Blood Oxygen Level (%)    Step Count  \\\n",
       "5009   2313.0         89.398918               97.932791   5060.952124   \n",
       "2965   1788.0         78.017781               98.736544    518.977421   \n",
       "2113   2325.0         79.641981               97.559194   6559.260033   \n",
       "3796   1867.0         85.836120              100.000000  21398.378954   \n",
       "1683   1193.0         71.754302               96.077817   3179.476407   \n",
       "\n",
       "     Sleep Duration (hours) Activity Level Stress Level  \n",
       "5009      5.036170722569186      Sedentary           10  \n",
       "2965      5.559555798224284  Highly Active            5  \n",
       "2113      4.503353301797565     Seddentary            6  \n",
       "3796      8.899756954238846          Actve            4  \n",
       "1683      6.962624786346553     Seddentary            7  "
      ]
     },
     "execution_count": 5,
     "metadata": {},
     "output_type": "execute_result"
    }
   ],
   "source": [
    "data.sample(5)"
   ]
  },
  {
   "cell_type": "code",
   "execution_count": 6,
   "id": "6ca07e67",
   "metadata": {},
   "outputs": [
    {
     "name": "stdout",
     "output_type": "stream",
     "text": [
      "<class 'pandas.core.frame.DataFrame'>\n",
      "RangeIndex: 10000 entries, 0 to 9999\n",
      "Data columns (total 7 columns):\n",
      " #   Column                  Non-Null Count  Dtype  \n",
      "---  ------                  --------------  -----  \n",
      " 0   User ID                 9799 non-null   float64\n",
      " 1   Heart Rate (BPM)        9600 non-null   float64\n",
      " 2   Blood Oxygen Level (%)  9700 non-null   float64\n",
      " 3   Step Count              9900 non-null   float64\n",
      " 4   Sleep Duration (hours)  9850 non-null   object \n",
      " 5   Activity Level          9800 non-null   object \n",
      " 6   Stress Level            9800 non-null   object \n",
      "dtypes: float64(4), object(3)\n",
      "memory usage: 547.0+ KB\n"
     ]
    }
   ],
   "source": [
    "data.info()"
   ]
  },
  {
   "cell_type": "code",
   "execution_count": 7,
   "id": "311b1614",
   "metadata": {},
   "outputs": [
    {
     "data": {
      "text/html": [
       "<div>\n",
       "<style scoped>\n",
       "    .dataframe tbody tr th:only-of-type {\n",
       "        vertical-align: middle;\n",
       "    }\n",
       "\n",
       "    .dataframe tbody tr th {\n",
       "        vertical-align: top;\n",
       "    }\n",
       "\n",
       "    .dataframe thead th {\n",
       "        text-align: right;\n",
       "    }\n",
       "</style>\n",
       "<table border=\"1\" class=\"dataframe\">\n",
       "  <thead>\n",
       "    <tr style=\"text-align: right;\">\n",
       "      <th></th>\n",
       "      <th>User ID</th>\n",
       "      <th>Heart Rate (BPM)</th>\n",
       "      <th>Blood Oxygen Level (%)</th>\n",
       "      <th>Step Count</th>\n",
       "    </tr>\n",
       "  </thead>\n",
       "  <tbody>\n",
       "    <tr>\n",
       "      <th>count</th>\n",
       "      <td>9799.000000</td>\n",
       "      <td>9600.000000</td>\n",
       "      <td>9700.000000</td>\n",
       "      <td>9900.000000</td>\n",
       "    </tr>\n",
       "    <tr>\n",
       "      <th>mean</th>\n",
       "      <td>3007.480253</td>\n",
       "      <td>76.035462</td>\n",
       "      <td>97.841581</td>\n",
       "      <td>6985.685885</td>\n",
       "    </tr>\n",
       "    <tr>\n",
       "      <th>std</th>\n",
       "      <td>1150.581542</td>\n",
       "      <td>19.412483</td>\n",
       "      <td>1.732863</td>\n",
       "      <td>6885.809680</td>\n",
       "    </tr>\n",
       "    <tr>\n",
       "      <th>min</th>\n",
       "      <td>1001.000000</td>\n",
       "      <td>40.000000</td>\n",
       "      <td>90.791208</td>\n",
       "      <td>0.910138</td>\n",
       "    </tr>\n",
       "    <tr>\n",
       "      <th>25%</th>\n",
       "      <td>1997.500000</td>\n",
       "      <td>64.890152</td>\n",
       "      <td>96.662683</td>\n",
       "      <td>2021.039657</td>\n",
       "    </tr>\n",
       "    <tr>\n",
       "      <th>50%</th>\n",
       "      <td>2998.000000</td>\n",
       "      <td>75.220601</td>\n",
       "      <td>98.010642</td>\n",
       "      <td>4962.534599</td>\n",
       "    </tr>\n",
       "    <tr>\n",
       "      <th>75%</th>\n",
       "      <td>4004.000000</td>\n",
       "      <td>85.198249</td>\n",
       "      <td>99.376179</td>\n",
       "      <td>9724.902880</td>\n",
       "    </tr>\n",
       "    <tr>\n",
       "      <th>max</th>\n",
       "      <td>4999.000000</td>\n",
       "      <td>296.593970</td>\n",
       "      <td>100.000000</td>\n",
       "      <td>62486.690753</td>\n",
       "    </tr>\n",
       "  </tbody>\n",
       "</table>\n",
       "</div>"
      ],
      "text/plain": [
       "           User ID  Heart Rate (BPM)  Blood Oxygen Level (%)    Step Count\n",
       "count  9799.000000       9600.000000             9700.000000   9900.000000\n",
       "mean   3007.480253         76.035462               97.841581   6985.685885\n",
       "std    1150.581542         19.412483                1.732863   6885.809680\n",
       "min    1001.000000         40.000000               90.791208      0.910138\n",
       "25%    1997.500000         64.890152               96.662683   2021.039657\n",
       "50%    2998.000000         75.220601               98.010642   4962.534599\n",
       "75%    4004.000000         85.198249               99.376179   9724.902880\n",
       "max    4999.000000        296.593970              100.000000  62486.690753"
      ]
     },
     "execution_count": 7,
     "metadata": {},
     "output_type": "execute_result"
    }
   ],
   "source": [
    "data.describe()"
   ]
  },
  {
   "cell_type": "markdown",
   "id": "c00731e1",
   "metadata": {},
   "source": [
    "### Transform"
   ]
  },
  {
   "cell_type": "markdown",
   "id": "2967095e",
   "metadata": {},
   "source": [
    "##### Data Cleaning.\n",
    "\n",
    "3. Checking the inconsistencies of the data\n",
    "4. Dropping down the rows whose User IDs are unkonwn\n",
    "5. Converting the ``User ID`` from float to int\n",
    "6. Removing the duplicates if any\n",
    "7. Converting the Sleep Duration column into float"
   ]
  },
  {
   "cell_type": "markdown",
   "id": "8bbe19e5",
   "metadata": {},
   "source": [
    "##### Data Standardization.\n",
    "8. Fixing the hyphens in ``Activity level`` column\n",
    "9. Fixing the ``Stress Level`` Column's elements having values 'Very High' to 9\n",
    "10. Fixing the Actve error in ``Activity Level``\n",
    "11. Filling up the empty entries\n",
    "12. Reducing the decimal value to 2 for columns with data type float.\n",
    "13. Removng the outliers from the dataframe\n",
    "14. Removing the rows with illogical values(To ensure logical consistency)\n",
    "15. Converting the Stress Level to ``int`` as we have fixed the data\n",
    "16. Checking for inconsistent categorical values for the column ``Activity level``\n",
    "17. Resetting the index"
   ]
  },
  {
   "cell_type": "code",
   "execution_count": 8,
   "id": "3159f377",
   "metadata": {},
   "outputs": [
    {
     "data": {
      "text/html": [
       "<div>\n",
       "<style scoped>\n",
       "    .dataframe tbody tr th:only-of-type {\n",
       "        vertical-align: middle;\n",
       "    }\n",
       "\n",
       "    .dataframe tbody tr th {\n",
       "        vertical-align: top;\n",
       "    }\n",
       "\n",
       "    .dataframe thead th {\n",
       "        text-align: right;\n",
       "    }\n",
       "</style>\n",
       "<table border=\"1\" class=\"dataframe\">\n",
       "  <thead>\n",
       "    <tr style=\"text-align: right;\">\n",
       "      <th></th>\n",
       "      <th>User ID</th>\n",
       "      <th>Heart Rate (BPM)</th>\n",
       "      <th>Blood Oxygen Level (%)</th>\n",
       "      <th>Step Count</th>\n",
       "      <th>Sleep Duration (hours)</th>\n",
       "      <th>Activity Level</th>\n",
       "      <th>Stress Level</th>\n",
       "    </tr>\n",
       "  </thead>\n",
       "  <tbody>\n",
       "    <tr>\n",
       "      <th>0</th>\n",
       "      <td>4174.0</td>\n",
       "      <td>58.939776</td>\n",
       "      <td>98.809650</td>\n",
       "      <td>5450.390578</td>\n",
       "      <td>7.167235622316564</td>\n",
       "      <td>Highly Active</td>\n",
       "      <td>1</td>\n",
       "    </tr>\n",
       "    <tr>\n",
       "      <th>1</th>\n",
       "      <td>NaN</td>\n",
       "      <td>NaN</td>\n",
       "      <td>98.532195</td>\n",
       "      <td>727.601610</td>\n",
       "      <td>6.538239375570314</td>\n",
       "      <td>Highly_Active</td>\n",
       "      <td>5</td>\n",
       "    </tr>\n",
       "  </tbody>\n",
       "</table>\n",
       "</div>"
      ],
      "text/plain": [
       "   User ID  Heart Rate (BPM)  Blood Oxygen Level (%)   Step Count  \\\n",
       "0   4174.0         58.939776               98.809650  5450.390578   \n",
       "1      NaN               NaN               98.532195   727.601610   \n",
       "\n",
       "  Sleep Duration (hours) Activity Level Stress Level  \n",
       "0      7.167235622316564  Highly Active            1  \n",
       "1      6.538239375570314  Highly_Active            5  "
      ]
     },
     "execution_count": 8,
     "metadata": {},
     "output_type": "execute_result"
    }
   ],
   "source": [
    "data.head(2)"
   ]
  },
  {
   "cell_type": "code",
   "execution_count": 17,
   "id": "ef6adf79",
   "metadata": {},
   "outputs": [
    {
     "data": {
      "text/plain": [
       "array(['Highly Active', 'Highly_Active', 'Actve', 'Seddentary',\n",
       "       'Sedentary', 'Active', nan], dtype=object)"
      ]
     },
     "execution_count": 17,
     "metadata": {},
     "output_type": "execute_result"
    }
   ],
   "source": [
    "data['Activity Level'].unique()"
   ]
  },
  {
   "cell_type": "code",
   "execution_count": 9,
   "id": "8c8cdb3c",
   "metadata": {},
   "outputs": [],
   "source": [
    "from scipy import stats\n",
    "\n",
    "def transform(data):\n",
    "\n",
    "    data = data.drop_duplicates()\n",
    "    data['User ID'] = data['User ID'].drop_duplicates()\n",
    "    data.loc[:,  'User ID'] = data.loc[:, 'User ID'].dropna()\n",
    "    data['User ID'] = data['User ID'].astype(str)\n",
    "\n",
    "    data['Heart Rate (BPM)'] = round(data['Heart Rate (BPM)'].astype(float), 2)\n",
    "    data['Heart Rate (BPM)'] = data['Heart Rate (BPM)'].fillna(data['Heart Rate (BPM)'].mean())\n",
    "\n",
    "\n",
    "\n",
    "\n",
    "    data['Blood Oxygen Level (%)'] = round(data['Blood Oxygen Level (%)'], 2)\n",
    "    data['Blood Oxygen Level (%)'] = data['Blood Oxygen Level (%)'].fillna(data['Blood Oxygen Level (%)'].mean())\n",
    "\n",
    "\n",
    "    # Can't convert null values to integer\n",
    "    # Fill null values first\n",
    "    data.loc[:, 'Step Count'] = data.loc[:, 'Step Count'].fillna(data.loc[:, 'Step Count'].mean())\n",
    "    data['Step Count'] = data['Step Count'].astype(int)\n",
    "    \n",
    "\n",
    "    data.loc[:, 'Sleep Duration (hours)'] = data.loc[:, 'Sleep Duration (hours)'].map(lambda x: np.nan if x == 'ERROR' else x) \n",
    "    data.loc[:, 'Sleep Duration (hours)'] = data.loc[:, 'Sleep Duration (hours)'].astype(float)\n",
    "    \n",
    "    \n",
    "    \n",
    "    data['Sleep Duration (hours)'] = round(data['Sleep Duration (hours)'].astype(float), 2)\n",
    "    sleep_duration_mean = data['Sleep Duration (hours)'].mean()\n",
    "    data['Sleep Duration (hours)'] = data['Sleep Duration (hours)'].fillna(sleep_duration_mean)\n",
    "\n",
    "\n",
    "    data.loc[:,'Activity Level'] = data.loc[:,'Activity Level'].str.replace('Actve', 'Active')\n",
    "    data.loc[:,'Activity Level'] = data.loc[:,'Activity Level'].str.replace('Highly_Active', 'Highly Active')\n",
    "    data.loc[:,'Activity Level'] = data.loc[:,'Activity Level'].str.replace('Seddentary', 'Sedentary')\n",
    "\n",
    "\n",
    "    mode = data['Stress Level'].mode() \n",
    "    data['Stress Level'] = data['Stress Level'].str.replace('Very High', '2')\n",
    "\n",
    "\n",
    "    # Finding and Replacing Missing Values in Numerical columns.\n",
    "    numerical_data = data[['Heart Rate (BPM)', 'Blood Oxygen Level (%)', 'Step Count', 'Sleep Duration (hours)']]\n",
    "\n",
    "    z_scores = np.abs(stats.zscore(numerical_data))\n",
    "\n",
    "    threshold = 3\n",
    "\n",
    "    outliers = np.where(z_scores < threshold)\n",
    "\n",
    "    data[['Heart Rate (BPM)', 'Blood Oxygen Level (%)', 'Step Count', 'Sleep Duration (hours)']] = numerical_data[(z_scores < threshold).all(axis = 1)]    \n",
    "\n",
    "\n",
    "    #Imputing missing values\n",
    "\n",
    "    \n",
    "\n",
    "\n",
    "\n",
    "    \n",
    "    \n",
    "\n",
    "    return data"
   ]
  },
  {
   "cell_type": "code",
   "execution_count": 10,
   "id": "b4726651",
   "metadata": {},
   "outputs": [
    {
     "name": "stdout",
     "output_type": "stream",
     "text": [
      "<class 'pandas.core.frame.DataFrame'>\n",
      "RangeIndex: 10000 entries, 0 to 9999\n",
      "Data columns (total 7 columns):\n",
      " #   Column                  Non-Null Count  Dtype  \n",
      "---  ------                  --------------  -----  \n",
      " 0   User ID                 10000 non-null  object \n",
      " 1   Heart Rate (BPM)        9720 non-null   float64\n",
      " 2   Blood Oxygen Level (%)  9720 non-null   float64\n",
      " 3   Step Count              9720 non-null   float64\n",
      " 4   Sleep Duration (hours)  9720 non-null   float64\n",
      " 5   Activity Level          9800 non-null   object \n",
      " 6   Stress Level            9800 non-null   object \n",
      "dtypes: float64(4), object(3)\n",
      "memory usage: 547.0+ KB\n"
     ]
    }
   ],
   "source": [
    "transform(data).info()"
   ]
  },
  {
   "cell_type": "code",
   "execution_count": 11,
   "id": "bd0d7bef",
   "metadata": {},
   "outputs": [
    {
     "data": {
      "text/html": [
       "<div>\n",
       "<style scoped>\n",
       "    .dataframe tbody tr th:only-of-type {\n",
       "        vertical-align: middle;\n",
       "    }\n",
       "\n",
       "    .dataframe tbody tr th {\n",
       "        vertical-align: top;\n",
       "    }\n",
       "\n",
       "    .dataframe thead th {\n",
       "        text-align: right;\n",
       "    }\n",
       "</style>\n",
       "<table border=\"1\" class=\"dataframe\">\n",
       "  <thead>\n",
       "    <tr style=\"text-align: right;\">\n",
       "      <th></th>\n",
       "      <th>User ID</th>\n",
       "      <th>Heart Rate (BPM)</th>\n",
       "      <th>Blood Oxygen Level (%)</th>\n",
       "      <th>Step Count</th>\n",
       "      <th>Sleep Duration (hours)</th>\n",
       "      <th>Activity Level</th>\n",
       "      <th>Stress Level</th>\n",
       "    </tr>\n",
       "  </thead>\n",
       "  <tbody>\n",
       "    <tr>\n",
       "      <th>0</th>\n",
       "      <td>4174.0</td>\n",
       "      <td>58.940000</td>\n",
       "      <td>98.81</td>\n",
       "      <td>5450.0</td>\n",
       "      <td>7.170000</td>\n",
       "      <td>Highly Active</td>\n",
       "      <td>1</td>\n",
       "    </tr>\n",
       "    <tr>\n",
       "      <th>1</th>\n",
       "      <td>nan</td>\n",
       "      <td>76.035481</td>\n",
       "      <td>98.53</td>\n",
       "      <td>727.0</td>\n",
       "      <td>6.540000</td>\n",
       "      <td>Highly Active</td>\n",
       "      <td>5</td>\n",
       "    </tr>\n",
       "    <tr>\n",
       "      <th>2</th>\n",
       "      <td>1860.0</td>\n",
       "      <td>NaN</td>\n",
       "      <td>NaN</td>\n",
       "      <td>NaN</td>\n",
       "      <td>NaN</td>\n",
       "      <td>Highly Active</td>\n",
       "      <td>5</td>\n",
       "    </tr>\n",
       "    <tr>\n",
       "      <th>3</th>\n",
       "      <td>2294.0</td>\n",
       "      <td>40.000000</td>\n",
       "      <td>96.89</td>\n",
       "      <td>13797.0</td>\n",
       "      <td>7.370000</td>\n",
       "      <td>Active</td>\n",
       "      <td>3</td>\n",
       "    </tr>\n",
       "    <tr>\n",
       "      <th>4</th>\n",
       "      <td>2130.0</td>\n",
       "      <td>61.950000</td>\n",
       "      <td>98.58</td>\n",
       "      <td>15679.0</td>\n",
       "      <td>6.505476</td>\n",
       "      <td>Highly Active</td>\n",
       "      <td>6</td>\n",
       "    </tr>\n",
       "    <tr>\n",
       "      <th>...</th>\n",
       "      <td>...</td>\n",
       "      <td>...</td>\n",
       "      <td>...</td>\n",
       "      <td>...</td>\n",
       "      <td>...</td>\n",
       "      <td>...</td>\n",
       "      <td>...</td>\n",
       "    </tr>\n",
       "    <tr>\n",
       "      <th>9995</th>\n",
       "      <td>nan</td>\n",
       "      <td>78.820000</td>\n",
       "      <td>98.93</td>\n",
       "      <td>2948.0</td>\n",
       "      <td>7.400000</td>\n",
       "      <td>Active</td>\n",
       "      <td>7</td>\n",
       "    </tr>\n",
       "    <tr>\n",
       "      <th>9996</th>\n",
       "      <td>nan</td>\n",
       "      <td>48.630000</td>\n",
       "      <td>95.77</td>\n",
       "      <td>4725.0</td>\n",
       "      <td>6.380000</td>\n",
       "      <td>Sedentary</td>\n",
       "      <td>2</td>\n",
       "    </tr>\n",
       "    <tr>\n",
       "      <th>9997</th>\n",
       "      <td>nan</td>\n",
       "      <td>73.830000</td>\n",
       "      <td>97.95</td>\n",
       "      <td>2571.0</td>\n",
       "      <td>6.920000</td>\n",
       "      <td>Sedentary</td>\n",
       "      <td>4</td>\n",
       "    </tr>\n",
       "    <tr>\n",
       "      <th>9998</th>\n",
       "      <td>nan</td>\n",
       "      <td>76.035481</td>\n",
       "      <td>98.40</td>\n",
       "      <td>3364.0</td>\n",
       "      <td>5.690000</td>\n",
       "      <td>Active</td>\n",
       "      <td>8</td>\n",
       "    </tr>\n",
       "    <tr>\n",
       "      <th>9999</th>\n",
       "      <td>nan</td>\n",
       "      <td>70.060000</td>\n",
       "      <td>98.48</td>\n",
       "      <td>544.0</td>\n",
       "      <td>5.690000</td>\n",
       "      <td>Active</td>\n",
       "      <td>5</td>\n",
       "    </tr>\n",
       "  </tbody>\n",
       "</table>\n",
       "<p>10000 rows × 7 columns</p>\n",
       "</div>"
      ],
      "text/plain": [
       "     User ID  Heart Rate (BPM)  Blood Oxygen Level (%)  Step Count  \\\n",
       "0     4174.0         58.940000                   98.81      5450.0   \n",
       "1        nan         76.035481                   98.53       727.0   \n",
       "2     1860.0               NaN                     NaN         NaN   \n",
       "3     2294.0         40.000000                   96.89     13797.0   \n",
       "4     2130.0         61.950000                   98.58     15679.0   \n",
       "...      ...               ...                     ...         ...   \n",
       "9995     nan         78.820000                   98.93      2948.0   \n",
       "9996     nan         48.630000                   95.77      4725.0   \n",
       "9997     nan         73.830000                   97.95      2571.0   \n",
       "9998     nan         76.035481                   98.40      3364.0   \n",
       "9999     nan         70.060000                   98.48       544.0   \n",
       "\n",
       "      Sleep Duration (hours) Activity Level Stress Level  \n",
       "0                   7.170000  Highly Active            1  \n",
       "1                   6.540000  Highly Active            5  \n",
       "2                        NaN  Highly Active            5  \n",
       "3                   7.370000         Active            3  \n",
       "4                   6.505476  Highly Active            6  \n",
       "...                      ...            ...          ...  \n",
       "9995                7.400000         Active            7  \n",
       "9996                6.380000      Sedentary            2  \n",
       "9997                6.920000      Sedentary            4  \n",
       "9998                5.690000         Active            8  \n",
       "9999                5.690000         Active            5  \n",
       "\n",
       "[10000 rows x 7 columns]"
      ]
     },
     "execution_count": 11,
     "metadata": {},
     "output_type": "execute_result"
    }
   ],
   "source": [
    "transform(data)"
   ]
  },
  {
   "cell_type": "code",
   "execution_count": 12,
   "id": "fbdf2364",
   "metadata": {},
   "outputs": [
    {
     "data": {
      "text/plain": [
       "User ID                   0.0\n",
       "Heart Rate (BPM)          2.8\n",
       "Blood Oxygen Level (%)    2.8\n",
       "Step Count                2.8\n",
       "Sleep Duration (hours)    2.8\n",
       "Activity Level            2.0\n",
       "Stress Level              2.0\n",
       "dtype: float64"
      ]
     },
     "execution_count": 12,
     "metadata": {},
     "output_type": "execute_result"
    }
   ],
   "source": [
    "round(transform(data).isnull().sum()/len(data)*100, 2)"
   ]
  },
  {
   "cell_type": "markdown",
   "id": "1bf1d76e",
   "metadata": {},
   "source": [
    "### Load"
   ]
  },
  {
   "cell_type": "code",
   "execution_count": 13,
   "id": "0d5b4b1f",
   "metadata": {},
   "outputs": [],
   "source": [
    "target_file = \"transformed_data.csv\"\n",
    "\n",
    "def load_data(target_file, transformed_data):\n",
    "    transformed_data.to_csv(target_file)"
   ]
  },
  {
   "cell_type": "markdown",
   "id": "47363fde",
   "metadata": {},
   "source": [
    "## Implementing the ETL Data Pipeline."
   ]
  },
  {
   "cell_type": "markdown",
   "id": "26d4508a",
   "metadata": {},
   "source": [
    "Call the functions in order(sequencially) to implement the data pipeline."
   ]
  },
  {
   "cell_type": "code",
   "execution_count": 14,
   "id": "6d2720e3",
   "metadata": {},
   "outputs": [],
   "source": [
    "extracted_data = extract('unclean_smartwatch_health_data.csv')"
   ]
  },
  {
   "cell_type": "code",
   "execution_count": 24,
   "id": "65fe114c",
   "metadata": {},
   "outputs": [],
   "source": [
    "transformed_data = pd.DataFrame(transform(extracted_data))\n",
    "transformed_data = transformed_data.dropna()"
   ]
  },
  {
   "cell_type": "code",
   "execution_count": 26,
   "id": "94f82958",
   "metadata": {},
   "outputs": [],
   "source": [
    "load_data(target_file, transformed_data)"
   ]
  },
  {
   "cell_type": "code",
   "execution_count": 27,
   "id": "b735dcf1",
   "metadata": {},
   "outputs": [
    {
     "data": {
      "text/plain": [
       "User ID                   0.0\n",
       "Heart Rate (BPM)          0.0\n",
       "Blood Oxygen Level (%)    0.0\n",
       "Step Count                0.0\n",
       "Sleep Duration (hours)    0.0\n",
       "Activity Level            0.0\n",
       "Stress Level              0.0\n",
       "dtype: float64"
      ]
     },
     "execution_count": 27,
     "metadata": {},
     "output_type": "execute_result"
    }
   ],
   "source": [
    "round(transformed_data.isnull().sum()/len(transformed_data)*100, 2)"
   ]
  },
  {
   "cell_type": "code",
   "execution_count": null,
   "id": "0dff5fde",
   "metadata": {},
   "outputs": [],
   "source": []
  }
 ],
 "metadata": {
  "kernelspec": {
   "display_name": "base",
   "language": "python",
   "name": "python3"
  },
  "language_info": {
   "codemirror_mode": {
    "name": "ipython",
    "version": 3
   },
   "file_extension": ".py",
   "mimetype": "text/x-python",
   "name": "python",
   "nbconvert_exporter": "python",
   "pygments_lexer": "ipython3",
   "version": "3.12.7"
  }
 },
 "nbformat": 4,
 "nbformat_minor": 5
}
